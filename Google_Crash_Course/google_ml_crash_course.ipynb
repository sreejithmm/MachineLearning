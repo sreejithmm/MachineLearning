{
 "cells": [
  {
   "cell_type": "markdown",
   "metadata": {},
   "source": [
    "# ML Concepts"
   ]
  },
  {
   "cell_type": "raw",
   "metadata": {},
   "source": [
    "Framing:Examples and models\n",
    "\n",
    "Labelled example - Used to train model\n",
    "Unabled example - Used for predictions\n",
    "Model - Model is mapping examples to predictions."
   ]
  },
  {
   "cell_type": "markdown",
   "metadata": {},
   "source": [
    "\n",
    "Loss:\n",
    "L2 Loss\n",
    "\n",
    "$$L2 Loss: = (y-prediction)^2$$\n",
    "\n",
    "Mean square error (MSE) is the average squared loss per example over the whole dataset. To calculate MSE, sum up all the squared losses for individual examples and then divide by the number of examples:\n",
    "\n",
    "$$MSE = \\frac{1}{N} \\sum_{(x,y)\\in D} (y - prediction(x))^2$$\n",
    "\n",
    "\n",
    "\n",
    "\n"
   ]
  },
  {
   "cell_type": "code",
   "execution_count": null,
   "metadata": {},
   "outputs": [],
   "source": []
  }
 ],
 "metadata": {
  "kernelspec": {
   "display_name": "Python 3",
   "language": "python",
   "name": "python3"
  },
  "language_info": {
   "codemirror_mode": {
    "name": "ipython",
    "version": 3
   },
   "file_extension": ".py",
   "mimetype": "text/x-python",
   "name": "python",
   "nbconvert_exporter": "python",
   "pygments_lexer": "ipython3",
   "version": "3.7.1"
  }
 },
 "nbformat": 4,
 "nbformat_minor": 2
}
